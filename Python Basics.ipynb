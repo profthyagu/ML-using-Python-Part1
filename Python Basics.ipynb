{
 "cells": [
  {
   "cell_type": "markdown",
   "id": "b1717063",
   "metadata": {},
   "source": [
    "## Introduction to Python"
   ]
  },
  {
   "cell_type": "markdown",
   "id": "9f1fe129",
   "metadata": {},
   "source": [
    "### 1. Declaring Variables"
   ]
  },
  {
   "cell_type": "code",
   "execution_count": 1,
   "id": "cca5b291",
   "metadata": {},
   "outputs": [],
   "source": [
    "var1 = 2\n",
    "var2 = 5.0\n",
    "var3 = True\n",
    "var4 = \"Machine Learning\""
   ]
  },
  {
   "cell_type": "code",
   "execution_count": 2,
   "id": "70e18509",
   "metadata": {},
   "outputs": [
    {
     "name": "stdout",
     "output_type": "stream",
     "text": [
      "Value of var1 : 2\n",
      "Value of var2 : 5.0\n",
      "Value of var3 : True\n",
      "Value of var4 : Machine Learning\n"
     ]
    }
   ],
   "source": [
    "print(\"Value of var1 :\", var1)\n",
    "print(\"Value of var2 :\", var2)\n",
    "print(\"Value of var3 :\", var3)\n",
    "print(\"Value of var4 :\", var4)"
   ]
  },
  {
   "cell_type": "code",
   "execution_count": 3,
   "id": "e83bdacb",
   "metadata": {},
   "outputs": [
    {
     "data": {
      "text/plain": [
       "int"
      ]
     },
     "execution_count": 3,
     "metadata": {},
     "output_type": "execute_result"
    }
   ],
   "source": [
    "type( var1 )"
   ]
  },
  {
   "cell_type": "code",
   "execution_count": 4,
   "id": "bef30389",
   "metadata": {},
   "outputs": [
    {
     "data": {
      "text/plain": [
       "float"
      ]
     },
     "execution_count": 4,
     "metadata": {},
     "output_type": "execute_result"
    }
   ],
   "source": [
    "type( var2 )"
   ]
  },
  {
   "cell_type": "code",
   "execution_count": 5,
   "id": "6ffc6ecc",
   "metadata": {},
   "outputs": [
    {
     "data": {
      "text/plain": [
       "bool"
      ]
     },
     "execution_count": 5,
     "metadata": {},
     "output_type": "execute_result"
    }
   ],
   "source": [
    "type( var3 )"
   ]
  },
  {
   "cell_type": "code",
   "execution_count": 6,
   "id": "29ae2257",
   "metadata": {},
   "outputs": [
    {
     "data": {
      "text/plain": [
       "str"
      ]
     },
     "execution_count": 6,
     "metadata": {},
     "output_type": "execute_result"
    }
   ],
   "source": [
    "type( var4 )"
   ]
  },
  {
   "cell_type": "markdown",
   "id": "deb0ec7e",
   "metadata": {},
   "source": [
    "## 2 Conditional Statements"
   ]
  },
  {
   "cell_type": "code",
   "execution_count": 8,
   "id": "eb27eb4b",
   "metadata": {},
   "outputs": [
    {
     "name": "stdout",
     "output_type": "stream",
     "text": [
      "Bigger than 1\n"
     ]
    }
   ],
   "source": [
    "# Checking a condition if the variable value is more than 1\n",
    "if var1 > 1:\n",
    "    print( \"Bigger than 1\" )"
   ]
  },
  {
   "cell_type": "code",
   "execution_count": 9,
   "id": "37326a02",
   "metadata": {},
   "outputs": [
    {
     "name": "stdout",
     "output_type": "stream",
     "text": [
      "x < y\n"
     ]
    }
   ],
   "source": [
    "x = 10\n",
    "y = 12\n",
    "# if x is greater than y\n",
    "if x > y:\n",
    "    print (\"x > y\")\n",
    "# if x is lesser than y\n",
    "elif x < y:\n",
    "    print (\"x < y\")\n",
    "else:\n",
    "    print (\"x = y\")"
   ]
  },
  {
   "cell_type": "code",
   "execution_count": 10,
   "id": "985d8136",
   "metadata": {},
   "outputs": [],
   "source": [
    "# Initialize\n",
    "x = 5\n",
    "# Assign True if x is more than 10 or assign False using ternary operator\n",
    "isGreater = True if x > 10 else False"
   ]
  },
  {
   "cell_type": "code",
   "execution_count": 11,
   "id": "6b7bd4a9",
   "metadata": {},
   "outputs": [
    {
     "data": {
      "text/plain": [
       "False"
      ]
     },
     "execution_count": 11,
     "metadata": {},
     "output_type": "execute_result"
    }
   ],
   "source": [
    "isGreater"
   ]
  },
  {
   "cell_type": "markdown",
   "id": "fd697484",
   "metadata": {},
   "source": [
    "## 3.Generating Sequence Numbers"
   ]
  },
  {
   "cell_type": "code",
   "execution_count": 12,
   "id": "4d4b1a7b",
   "metadata": {},
   "outputs": [
    {
     "data": {
      "text/plain": [
       "range(1, 6)"
      ]
     },
     "execution_count": 12,
     "metadata": {},
     "output_type": "execute_result"
    }
   ],
   "source": [
    "# Initializing the sequence of numbers starting from 1\n",
    "# and ending (not including) with 6\n",
    "numbers = range( 1, 6 )\n",
    "numbers"
   ]
  },
  {
   "cell_type": "code",
   "execution_count": 13,
   "id": "14ee6f37",
   "metadata": {},
   "outputs": [
    {
     "name": "stdout",
     "output_type": "stream",
     "text": [
      "range(1, 6)\n"
     ]
    }
   ],
   "source": [
    "print(numbers)"
   ]
  },
  {
   "cell_type": "markdown",
   "id": "0743d017",
   "metadata": {},
   "source": [
    "## 4.Control Flow Statements "
   ]
  },
  {
   "cell_type": "markdown",
   "id": "e5d41aa1",
   "metadata": {},
   "source": [
    "### 4.1 : For Loop"
   ]
  },
  {
   "cell_type": "code",
   "execution_count": 18,
   "id": "890a4d9d",
   "metadata": {},
   "outputs": [
    {
     "name": "stdout",
     "output_type": "stream",
     "text": [
      "1 2 3 4 5 "
     ]
    }
   ],
   "source": [
    "# Iterate through the collection\n",
    "for i in range(1,6):\n",
    "    print(i,end = ' ')"
   ]
  },
  {
   "cell_type": "markdown",
   "id": "07fbce47",
   "metadata": {},
   "source": [
    "### 4.2 : While Loop"
   ]
  },
  {
   "cell_type": "code",
   "execution_count": 1,
   "id": "21d2196b",
   "metadata": {},
   "outputs": [
    {
     "name": "stdout",
     "output_type": "stream",
     "text": [
      "1\n",
      "2\n",
      "3\n",
      "4\n",
      "Done\n"
     ]
    }
   ],
   "source": [
    "# Initialize the value of 1\n",
    "i = 1\n",
    "# check the value of i to check if the loop will be continued or not\n",
    "while i < 5:\n",
    "    print(i)\n",
    "    # Increment the value of i.\n",
    "    i = i+1\n",
    "# print after the value of i\n",
    "print('Done')"
   ]
  },
  {
   "cell_type": "markdown",
   "id": "3c8f3531",
   "metadata": {},
   "source": [
    "## 5 Functions"
   ]
  },
  {
   "cell_type": "code",
   "execution_count": 2,
   "id": "d4c8e85b",
   "metadata": {},
   "outputs": [],
   "source": [
    "def addElements( a, b ):\n",
    "    return a + b"
   ]
  },
  {
   "cell_type": "code",
   "execution_count": 3,
   "id": "ce15cc60",
   "metadata": {},
   "outputs": [
    {
     "data": {
      "text/plain": [
       "5"
      ]
     },
     "execution_count": 3,
     "metadata": {},
     "output_type": "execute_result"
    }
   ],
   "source": [
    "result = addElements( 2, 3 )\n",
    "result"
   ]
  },
  {
   "cell_type": "code",
   "execution_count": 4,
   "id": "f178cf00",
   "metadata": {},
   "outputs": [
    {
     "data": {
      "text/plain": [
       "6.8"
      ]
     },
     "execution_count": 4,
     "metadata": {},
     "output_type": "execute_result"
    }
   ],
   "source": [
    "result = addElements( 2.3, 4.5 )\n",
    "result"
   ]
  },
  {
   "cell_type": "code",
   "execution_count": 5,
   "id": "0a228f2e",
   "metadata": {},
   "outputs": [
    {
     "data": {
      "text/plain": [
       "'pythonworkshop'"
      ]
     },
     "execution_count": 5,
     "metadata": {},
     "output_type": "execute_result"
    }
   ],
   "source": [
    "result = addElements( \"python\", \"workshop\" )\n",
    "result"
   ]
  },
  {
   "cell_type": "code",
   "execution_count": 6,
   "id": "e5503707",
   "metadata": {},
   "outputs": [],
   "source": [
    "def addElements( a, b = 4 ):\n",
    "    return a + b"
   ]
  },
  {
   "cell_type": "code",
   "execution_count": 7,
   "id": "4ec101f6",
   "metadata": {},
   "outputs": [
    {
     "data": {
      "text/plain": [
       "6"
      ]
     },
     "execution_count": 7,
     "metadata": {},
     "output_type": "execute_result"
    }
   ],
   "source": [
    "addElements( 2 )"
   ]
  },
  {
   "cell_type": "code",
   "execution_count": 8,
   "id": "82d09eca",
   "metadata": {},
   "outputs": [
    {
     "data": {
      "text/plain": [
       "7"
      ]
     },
     "execution_count": 8,
     "metadata": {},
     "output_type": "execute_result"
    }
   ],
   "source": [
    "addElements( 2, 5 )"
   ]
  },
  {
   "cell_type": "markdown",
   "id": "377b20f8",
   "metadata": {},
   "source": [
    "## 6 Working with Collections"
   ]
  },
  {
   "cell_type": "markdown",
   "id": "bf7d5171",
   "metadata": {},
   "source": [
    "## 6.1 List"
   ]
  },
  {
   "cell_type": "code",
   "execution_count": 9,
   "id": "61f891af",
   "metadata": {},
   "outputs": [],
   "source": [
    "## Create an empty list\n",
    "emptyList = []"
   ]
  },
  {
   "cell_type": "code",
   "execution_count": 10,
   "id": "56ec7035",
   "metadata": {},
   "outputs": [],
   "source": [
    "batsmen = ['Rohit', 'Dhawan', 'Kohli', 'Rahane', 'Rayudu', 'Dhoni']"
   ]
  },
  {
   "cell_type": "code",
   "execution_count": 11,
   "id": "173639c2",
   "metadata": {},
   "outputs": [
    {
     "data": {
      "text/plain": [
       "'Rohit'"
      ]
     },
     "execution_count": 11,
     "metadata": {},
     "output_type": "execute_result"
    }
   ],
   "source": [
    "batsmen[0]"
   ]
  },
  {
   "cell_type": "code",
   "execution_count": 12,
   "id": "f3ab4cfb",
   "metadata": {},
   "outputs": [
    {
     "data": {
      "text/plain": [
       "['Rohit', 'Dhawan']"
      ]
     },
     "execution_count": 12,
     "metadata": {},
     "output_type": "execute_result"
    }
   ],
   "source": [
    "## Slicing an list\n",
    "batsmen[0:2]"
   ]
  },
  {
   "cell_type": "code",
   "execution_count": 13,
   "id": "4751a428",
   "metadata": {},
   "outputs": [
    {
     "data": {
      "text/plain": [
       "'Dhoni'"
      ]
     },
     "execution_count": 13,
     "metadata": {},
     "output_type": "execute_result"
    }
   ],
   "source": [
    "## Accessing the last element\n",
    "batsmen[-1]"
   ]
  },
  {
   "cell_type": "code",
   "execution_count": 14,
   "id": "a5c22508",
   "metadata": {},
   "outputs": [
    {
     "data": {
      "text/plain": [
       "6"
      ]
     },
     "execution_count": 14,
     "metadata": {},
     "output_type": "execute_result"
    }
   ],
   "source": [
    "# how many elements in the list\n",
    "len( batsmen )"
   ]
  },
  {
   "cell_type": "code",
   "execution_count": 15,
   "id": "0b6b7d18",
   "metadata": {},
   "outputs": [],
   "source": [
    "bowlers = ['Bumrah', 'Shami', 'Bhuvi', 'Kuldeep', 'Chahal']"
   ]
  },
  {
   "cell_type": "code",
   "execution_count": 16,
   "id": "ef55321c",
   "metadata": {},
   "outputs": [],
   "source": [
    "all_players = batsmen + bowlers"
   ]
  },
  {
   "cell_type": "code",
   "execution_count": 21,
   "id": "886457d9",
   "metadata": {},
   "outputs": [
    {
     "name": "stdout",
     "output_type": "stream",
     "text": [
      "['Rohit', 'Dhawan', 'Kohli', 'Rahane', 'Rayudu', 'Dhoni', 'Bumrah', 'Shami', 'Bhuvi', 'Kuldeep', 'Chahal']"
     ]
    }
   ],
   "source": [
    "print(all_players,end='')"
   ]
  },
  {
   "cell_type": "code",
   "execution_count": 22,
   "id": "bb5ee12d",
   "metadata": {},
   "outputs": [
    {
     "data": {
      "text/plain": [
       "True"
      ]
     },
     "execution_count": 22,
     "metadata": {},
     "output_type": "execute_result"
    }
   ],
   "source": [
    "'Bumrah' in bowlers"
   ]
  },
  {
   "cell_type": "code",
   "execution_count": 23,
   "id": "efb1bcf9",
   "metadata": {},
   "outputs": [
    {
     "data": {
      "text/plain": [
       "False"
      ]
     },
     "execution_count": 23,
     "metadata": {},
     "output_type": "execute_result"
    }
   ],
   "source": [
    "'Rayudu' in bowlers"
   ]
  },
  {
   "cell_type": "code",
   "execution_count": 24,
   "id": "67956307",
   "metadata": {},
   "outputs": [
    {
     "data": {
      "text/plain": [
       "5"
      ]
     },
     "execution_count": 24,
     "metadata": {},
     "output_type": "execute_result"
    }
   ],
   "source": [
    "all_players.index( 'Dhoni' )"
   ]
  },
  {
   "cell_type": "code",
   "execution_count": 25,
   "id": "d15a7071",
   "metadata": {},
   "outputs": [
    {
     "data": {
      "text/plain": [
       "['Chahal',\n",
       " 'Kuldeep',\n",
       " 'Bhuvi',\n",
       " 'Shami',\n",
       " 'Bumrah',\n",
       " 'Dhoni',\n",
       " 'Rayudu',\n",
       " 'Rahane',\n",
       " 'Kohli',\n",
       " 'Dhawan',\n",
       " 'Rohit']"
      ]
     },
     "execution_count": 25,
     "metadata": {},
     "output_type": "execute_result"
    }
   ],
   "source": [
    "all_players.reverse()\n",
    "all_players"
   ]
  },
  {
   "cell_type": "markdown",
   "id": "0117dadc",
   "metadata": {},
   "source": [
    "## 6.2 Tuples"
   ]
  },
  {
   "cell_type": "code",
   "execution_count": 26,
   "id": "fe58928d",
   "metadata": {},
   "outputs": [],
   "source": [
    "odiDebut = ( 'Kohli', 2008 )"
   ]
  },
  {
   "cell_type": "code",
   "execution_count": 27,
   "id": "a1b3cb9d",
   "metadata": {},
   "outputs": [
    {
     "data": {
      "text/plain": [
       "('Kohli', 2008)"
      ]
     },
     "execution_count": 27,
     "metadata": {},
     "output_type": "execute_result"
    }
   ],
   "source": [
    "odiDebut"
   ]
  },
  {
   "cell_type": "code",
   "execution_count": 28,
   "id": "cb4c29f7",
   "metadata": {},
   "outputs": [
    {
     "data": {
      "text/plain": [
       "'Kohli'"
      ]
     },
     "execution_count": 28,
     "metadata": {},
     "output_type": "execute_result"
    }
   ],
   "source": [
    "odiDebut[0]"
   ]
  },
  {
   "cell_type": "code",
   "execution_count": 29,
   "id": "eaf5ee0e",
   "metadata": {},
   "outputs": [
    {
     "ename": "NameError",
     "evalue": "name 'tup1' is not defined",
     "output_type": "error",
     "traceback": [
      "\u001b[1;31m---------------------------------------------------------------------------\u001b[0m",
      "\u001b[1;31mNameError\u001b[0m                                 Traceback (most recent call last)",
      "\u001b[1;32m<ipython-input-29-9195c07b537c>\u001b[0m in \u001b[0;36m<module>\u001b[1;34m\u001b[0m\n\u001b[1;32m----> 1\u001b[1;33m \u001b[0mtup1\u001b[0m\u001b[1;33m[\u001b[0m\u001b[1;36m1\u001b[0m\u001b[1;33m]\u001b[0m \u001b[1;33m=\u001b[0m \u001b[1;36m2009\u001b[0m\u001b[1;33m\u001b[0m\u001b[1;33m\u001b[0m\u001b[0m\n\u001b[0m",
      "\u001b[1;31mNameError\u001b[0m: name 'tup1' is not defined"
     ]
    }
   ],
   "source": [
    "tup1[1] = 2009"
   ]
  },
  {
   "cell_type": "code",
   "execution_count": 30,
   "id": "accf318b",
   "metadata": {},
   "outputs": [],
   "source": [
    "players = tuple( all_players )"
   ]
  },
  {
   "cell_type": "code",
   "execution_count": 31,
   "id": "72dc60bf",
   "metadata": {},
   "outputs": [
    {
     "data": {
      "text/plain": [
       "('Chahal',\n",
       " 'Kuldeep',\n",
       " 'Bhuvi',\n",
       " 'Shami',\n",
       " 'Bumrah',\n",
       " 'Dhoni',\n",
       " 'Rayudu',\n",
       " 'Rahane',\n",
       " 'Kohli',\n",
       " 'Dhawan',\n",
       " 'Rohit')"
      ]
     },
     "execution_count": 31,
     "metadata": {},
     "output_type": "execute_result"
    }
   ],
   "source": [
    "players"
   ]
  },
  {
   "cell_type": "markdown",
   "id": "69295fce",
   "metadata": {},
   "source": [
    "## 6.3 Set"
   ]
  },
  {
   "cell_type": "code",
   "execution_count": 32,
   "id": "c07c2406",
   "metadata": {},
   "outputs": [],
   "source": [
    "setOfNumbers = {6,1,1,2,4,5}"
   ]
  },
  {
   "cell_type": "code",
   "execution_count": 33,
   "id": "5dbfc5ab",
   "metadata": {},
   "outputs": [
    {
     "data": {
      "text/plain": [
       "{1, 2, 4, 5, 6}"
      ]
     },
     "execution_count": 33,
     "metadata": {},
     "output_type": "execute_result"
    }
   ],
   "source": [
    "setOfNumbers"
   ]
  },
  {
   "cell_type": "code",
   "execution_count": 35,
   "id": "66988b57",
   "metadata": {},
   "outputs": [],
   "source": [
    "wc2011 = {\"Dhoni\", \"Sehwag\", \"Tendulkar\", \"Gambhir\", \"Kohli\", \"Raina\", \"Yuvraj\",\"Yusuf\"}\n",
    "wc2015 = {\"Dhoni\", \"Dhawan\", \"Rohit\", \"Rahane\", \"Kohli\", \"Raina\", \"Rayudu\", \"Jadeja\"}"
   ]
  },
  {
   "cell_type": "code",
   "execution_count": 36,
   "id": "d48f0412",
   "metadata": {},
   "outputs": [
    {
     "data": {
      "text/plain": [
       "{'Dhawan',\n",
       " 'Dhoni',\n",
       " 'Gambhir',\n",
       " 'Jadeja',\n",
       " 'Kohli',\n",
       " 'Rahane',\n",
       " 'Raina',\n",
       " 'Rayudu',\n",
       " 'Rohit',\n",
       " 'Sehwag',\n",
       " 'Tendulkar',\n",
       " 'Yusuf',\n",
       " 'Yuvraj'}"
      ]
     },
     "execution_count": 36,
     "metadata": {},
     "output_type": "execute_result"
    }
   ],
   "source": [
    "wc2011.union( wc2015 )"
   ]
  },
  {
   "cell_type": "code",
   "execution_count": 37,
   "id": "0f461d80",
   "metadata": {},
   "outputs": [
    {
     "data": {
      "text/plain": [
       "{'Dhoni', 'Kohli', 'Raina'}"
      ]
     },
     "execution_count": 37,
     "metadata": {},
     "output_type": "execute_result"
    }
   ],
   "source": [
    "wc2011.intersection( wc2015 )"
   ]
  },
  {
   "cell_type": "code",
   "execution_count": 38,
   "id": "5ad36b41",
   "metadata": {},
   "outputs": [
    {
     "data": {
      "text/plain": [
       "{'Dhawan', 'Jadeja', 'Rahane', 'Rayudu', 'Rohit'}"
      ]
     },
     "execution_count": 38,
     "metadata": {},
     "output_type": "execute_result"
    }
   ],
   "source": [
    "wc2015.difference( wc2011 )"
   ]
  },
  {
   "cell_type": "markdown",
   "id": "722637b2",
   "metadata": {},
   "source": [
    "## 6.4 Dictionary"
   ]
  },
  {
   "cell_type": "code",
   "execution_count": 41,
   "id": "0edc232e",
   "metadata": {},
   "outputs": [],
   "source": [
    "wcWinners = { \n",
    "1975: \"West Indies\",\n",
    "1979: \"West Indies\",\n",
    "1983: \"India\",\n",
    "1987: \"Australia\",\n",
    "1991: \"Pakistan\",\n",
    "1996: \"Srilanka\",\n",
    "1999: \"Australia\",\n",
    "2003: \"Australia\",\n",
    "2007: \"Australia\",\n",
    "2011: \"India\"\n",
    "}"
   ]
  },
  {
   "cell_type": "code",
   "execution_count": 42,
   "id": "922e1a18",
   "metadata": {},
   "outputs": [
    {
     "data": {
      "text/plain": [
       "'India'"
      ]
     },
     "execution_count": 42,
     "metadata": {},
     "output_type": "execute_result"
    }
   ],
   "source": [
    "wcWinners[1983]"
   ]
  },
  {
   "cell_type": "code",
   "execution_count": 43,
   "id": "6cb60678",
   "metadata": {},
   "outputs": [
    {
     "data": {
      "text/plain": [
       "dict_values(['West Indies', 'West Indies', 'India', 'Australia', 'Pakistan', 'Srilanka', 'Australia', 'Australia', 'Australia', 'India'])"
      ]
     },
     "execution_count": 43,
     "metadata": {},
     "output_type": "execute_result"
    }
   ],
   "source": [
    "wcWinners.values()"
   ]
  },
  {
   "cell_type": "code",
   "execution_count": 44,
   "id": "f2a7d583",
   "metadata": {},
   "outputs": [
    {
     "data": {
      "text/plain": [
       "{'Australia', 'India', 'Pakistan', 'Srilanka', 'West Indies'}"
      ]
     },
     "execution_count": 44,
     "metadata": {},
     "output_type": "execute_result"
    }
   ],
   "source": [
    "set(wcWinners.values())"
   ]
  },
  {
   "cell_type": "code",
   "execution_count": 45,
   "id": "d10232fa",
   "metadata": {},
   "outputs": [],
   "source": [
    "wcWinners[2015] = 'Australia'"
   ]
  },
  {
   "cell_type": "code",
   "execution_count": 46,
   "id": "5b2a3fb4",
   "metadata": {},
   "outputs": [
    {
     "data": {
      "text/plain": [
       "{1975: 'West Indies',\n",
       " 1979: 'West Indies',\n",
       " 1983: 'India',\n",
       " 1987: 'Australia',\n",
       " 1991: 'Pakistan',\n",
       " 1996: 'Srilanka',\n",
       " 1999: 'Australia',\n",
       " 2003: 'Australia',\n",
       " 2007: 'Australia',\n",
       " 2011: 'India',\n",
       " 2015: 'Australia'}"
      ]
     },
     "execution_count": 46,
     "metadata": {},
     "output_type": "execute_result"
    }
   ],
   "source": [
    "wcWinners"
   ]
  },
  {
   "cell_type": "markdown",
   "id": "a24e3784",
   "metadata": {},
   "source": [
    "## 7 Dealing with Strings"
   ]
  },
  {
   "cell_type": "code",
   "execution_count": 47,
   "id": "4f754eb2",
   "metadata": {},
   "outputs": [],
   "source": [
    "string0 = 'python'\n",
    "string1 = \"machine learning\""
   ]
  },
  {
   "cell_type": "code",
   "execution_count": 48,
   "id": "f0be947b",
   "metadata": {},
   "outputs": [],
   "source": [
    "string2 = \"\"\"This is a\n",
    "multiline string\"\"\""
   ]
  },
  {
   "cell_type": "code",
   "execution_count": 49,
   "id": "663eed4e",
   "metadata": {},
   "outputs": [
    {
     "data": {
      "text/plain": [
       "'PYTHON'"
      ]
     },
     "execution_count": 49,
     "metadata": {},
     "output_type": "execute_result"
    }
   ],
   "source": [
    "# Converting to upper case\n",
    "string0.upper()\n",
    "# Similarly string.lower() can be used to convert to lower case.\n",
    "# string0.lower()"
   ]
  },
  {
   "cell_type": "code",
   "execution_count": 50,
   "id": "63370049",
   "metadata": {},
   "outputs": [
    {
     "data": {
      "text/plain": [
       "['machine', 'learning']"
      ]
     },
     "execution_count": 50,
     "metadata": {},
     "output_type": "execute_result"
    }
   ],
   "source": [
    "tokens = string1.split(' ')\n",
    "tokens"
   ]
  },
  {
   "cell_type": "markdown",
   "id": "79f7a45d",
   "metadata": {},
   "source": [
    "## 8 Functional Programming"
   ]
  },
  {
   "cell_type": "markdown",
   "id": "9dfd4024",
   "metadata": {},
   "source": [
    "## 8.1 Example 1: Map"
   ]
  },
  {
   "cell_type": "code",
   "execution_count": 51,
   "id": "40b6bc01",
   "metadata": {},
   "outputs": [],
   "source": [
    "intList = [1,2,3,4,5,6,7,8,9]"
   ]
  },
  {
   "cell_type": "code",
   "execution_count": 53,
   "id": "8730ecac",
   "metadata": {},
   "outputs": [
    {
     "name": "stdout",
     "output_type": "stream",
     "text": [
      "[1, 4, 9, 16, 25, 36, 49, 64, 81]\n"
     ]
    }
   ],
   "source": [
    "# Create an empty list.\n",
    "squareList = []\n",
    "# Loop through the intList, square every item and append to result list squareList.\n",
    "for x in intList:\n",
    "    squareList.append( pow( x, 2 ) )\n",
    "print( squareList )"
   ]
  },
  {
   "cell_type": "code",
   "execution_count": 54,
   "id": "569eb2e7",
   "metadata": {},
   "outputs": [],
   "source": [
    "def square_me( x ):\n",
    "    return x * x"
   ]
  },
  {
   "cell_type": "code",
   "execution_count": 55,
   "id": "68585553",
   "metadata": {},
   "outputs": [],
   "source": [
    "squareList = map( square_me, intList)"
   ]
  },
  {
   "cell_type": "code",
   "execution_count": 56,
   "id": "921e0dfd",
   "metadata": {},
   "outputs": [
    {
     "data": {
      "text/plain": [
       "[1, 4, 9, 16, 25, 36, 49, 64, 81]"
      ]
     },
     "execution_count": 56,
     "metadata": {},
     "output_type": "execute_result"
    }
   ],
   "source": [
    "list(squareList)"
   ]
  },
  {
   "cell_type": "code",
   "execution_count": 57,
   "id": "eee3e2ae",
   "metadata": {},
   "outputs": [
    {
     "data": {
      "text/plain": [
       "[1, 4, 9, 16, 25, 36, 49, 64, 81]"
      ]
     },
     "execution_count": 57,
     "metadata": {},
     "output_type": "execute_result"
    }
   ],
   "source": [
    "squareList = map(lambda x: x*x, intList)\n",
    "list(squareList)"
   ]
  },
  {
   "cell_type": "markdown",
   "id": "f2d7f0f5",
   "metadata": {},
   "source": [
    "## 8.2 Example 2: Filter"
   ]
  },
  {
   "cell_type": "code",
   "execution_count": 58,
   "id": "300ef904",
   "metadata": {},
   "outputs": [],
   "source": [
    "evenInts = filter( lambda x : x % 2 == 0, intList )"
   ]
  },
  {
   "cell_type": "code",
   "execution_count": 59,
   "id": "de80f3e5",
   "metadata": {},
   "outputs": [
    {
     "data": {
      "text/plain": [
       "[2, 4, 6, 8]"
      ]
     },
     "execution_count": 59,
     "metadata": {},
     "output_type": "execute_result"
    }
   ],
   "source": [
    "list( evenInts )"
   ]
  },
  {
   "cell_type": "markdown",
   "id": "69584dfe",
   "metadata": {},
   "source": [
    "## 9 Modules and Packages"
   ]
  },
  {
   "cell_type": "code",
   "execution_count": 60,
   "id": "aa8cbc52",
   "metadata": {},
   "outputs": [
    {
     "data": {
      "text/plain": [
       "4.0"
      ]
     },
     "execution_count": 60,
     "metadata": {},
     "output_type": "execute_result"
    }
   ],
   "source": [
    "import math\n",
    "## Taking square root of a value\n",
    "math.sqrt(16)"
   ]
  },
  {
   "cell_type": "code",
   "execution_count": 61,
   "id": "1151c2e3",
   "metadata": {},
   "outputs": [],
   "source": [
    "from random import sample"
   ]
  },
  {
   "cell_type": "code",
   "execution_count": 62,
   "id": "0f42597d",
   "metadata": {},
   "outputs": [
    {
     "data": {
      "text/plain": [
       "[8, 0, 1]"
      ]
     },
     "execution_count": 62,
     "metadata": {},
     "output_type": "execute_result"
    }
   ],
   "source": [
    "sample( range(0, 11), 3)"
   ]
  },
  {
   "cell_type": "markdown",
   "id": "4d5018b6",
   "metadata": {},
   "source": [
    "## 10 Other Features"
   ]
  },
  {
   "cell_type": "code",
   "execution_count": 63,
   "id": "dfacb023",
   "metadata": {},
   "outputs": [
    {
     "data": {
      "text/plain": [
       "[92,\n",
       " 77,\n",
       " 63,\n",
       " 22,\n",
       " 33,\n",
       " 20,\n",
       " 84,\n",
       " 82,\n",
       " 54,\n",
       " 97,\n",
       " 93,\n",
       " 31,\n",
       " 61,\n",
       " 30,\n",
       " 10,\n",
       " 55,\n",
       " 96,\n",
       " 32,\n",
       " 36,\n",
       " 14]"
      ]
     },
     "execution_count": 63,
     "metadata": {},
     "output_type": "execute_result"
    }
   ],
   "source": [
    "import random\n",
    "randomList = random.sample( range(0, 100), 20)\n",
    "randomList"
   ]
  },
  {
   "cell_type": "code",
   "execution_count": 65,
   "id": "acf93854",
   "metadata": {},
   "outputs": [],
   "source": [
    "from statistics import mean, median\n",
    "def getMeanAndMedian( listNum ):\n",
    "    return mean(listNum), median(listNum)"
   ]
  },
  {
   "cell_type": "code",
   "execution_count": 66,
   "id": "2f2db79c",
   "metadata": {},
   "outputs": [],
   "source": [
    "mean, median = getMeanAndMedian( randomList )"
   ]
  },
  {
   "cell_type": "code",
   "execution_count": 67,
   "id": "1e645b85",
   "metadata": {},
   "outputs": [
    {
     "name": "stdout",
     "output_type": "stream",
     "text": [
      "Mean:  54.1  Median:  54.5\n"
     ]
    }
   ],
   "source": [
    "print( \"Mean: \", mean, \" Median: \", median)"
   ]
  },
  {
   "cell_type": "code",
   "execution_count": null,
   "id": "0c6f7462",
   "metadata": {},
   "outputs": [],
   "source": []
  }
 ],
 "metadata": {
  "kernelspec": {
   "display_name": "Python 3",
   "language": "python",
   "name": "python3"
  },
  "language_info": {
   "codemirror_mode": {
    "name": "ipython",
    "version": 3
   },
   "file_extension": ".py",
   "mimetype": "text/x-python",
   "name": "python",
   "nbconvert_exporter": "python",
   "pygments_lexer": "ipython3",
   "version": "3.8.8"
  }
 },
 "nbformat": 4,
 "nbformat_minor": 5
}
